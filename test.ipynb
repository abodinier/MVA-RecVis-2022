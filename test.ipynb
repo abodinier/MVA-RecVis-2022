{
 "cells": [
  {
   "cell_type": "code",
   "execution_count": null,
   "metadata": {},
   "outputs": [],
   "source": [
    "import cv2 \n",
    "import pandas as pd\n",
    "from pathlib import Path\n",
    "import matplotlib.pyplot as plt"
   ]
  },
  {
   "cell_type": "code",
   "execution_count": null,
   "metadata": {},
   "outputs": [],
   "source": [
    "df = pd.read_csv(\"kaggle.csv\")\n",
    "df_old = pd.read_csv(\"kaggle_old.csv\")"
   ]
  },
  {
   "cell_type": "code",
   "execution_count": null,
   "metadata": {},
   "outputs": [],
   "source": [
    "df[\"old\"]=df_old[\"Category\"]"
   ]
  },
  {
   "cell_type": "code",
   "execution_count": null,
   "metadata": {},
   "outputs": [],
   "source": [
    "df_old"
   ]
  },
  {
   "cell_type": "code",
   "execution_count": null,
   "metadata": {},
   "outputs": [],
   "source": [
    "df[df[\"Category\"]!=df[\"old\"]]"
   ]
  },
  {
   "cell_type": "code",
   "execution_count": null,
   "metadata": {},
   "outputs": [],
   "source": [
    "other_ids = df[df[\"Category\"]==df[\"old\"]][\"Id\"].to_list()"
   ]
  },
  {
   "cell_type": "code",
   "execution_count": null,
   "metadata": {},
   "outputs": [],
   "source": [
    "fix, axes = plt.subplots(nrows=len(other_ids), ncols=2, figsize=(10, 500))\n",
    "for i, id in enumerate(other_ids):\n",
    "    path = Path(f\"data/test_images/mistery_category/{id}.jpg\")\n",
    "    crop_path = Path(f\"data_crop/test_images/mistery_category/{id}.jpg\")\n",
    "    img = cv2.imread(str(path))\n",
    "    img_crop = cv2.imread(str(crop_path))\n",
    "    axes[i, 0].imshow(img)\n",
    "    axes[i, 1].imshow(img_crop)\n",
    "plt.show()\n"
   ]
  },
  {
   "cell_type": "code",
   "execution_count": null,
   "metadata": {},
   "outputs": [],
   "source": []
  },
  {
   "cell_type": "code",
   "execution_count": null,
   "metadata": {},
   "outputs": [],
   "source": [
    "\n",
    "fix, axes = plt.subplots(1, 2)\n",
    "img = cv2.imread(str(path))\n",
    "img_crop = cv2.imread(str(crop_path))\n",
    "axes[0].imshow(img)\n",
    "axes[1].imshow(img_crop)\n",
    "\n"
   ]
  },
  {
   "cell_type": "code",
   "execution_count": null,
   "metadata": {},
   "outputs": [],
   "source": [
    "import shutil\n",
    "from pathlib import Path\n",
    "\n",
    "import cv2\n",
    "import pandas as pd\n",
    "import PIL\n",
    "from tqdm import trange\n",
    "import torch\n",
    "import numpy as np\n",
    "import sys\n",
    "sys.path.append(\"detectron2/detectron2\")\n",
    "\n",
    "import detectron2\n",
    "from detectron2 import model_zoo\n",
    "from detectron2.config import get_cfg\n",
    "from detectron2.engine import DefaultPredictor\n",
    "from detectron2.utils.logger import setup_logger\n",
    "from detectron2.utils.visualizer import Visualizer\n",
    "from detectron2.data import MetadataCatalog, DatasetCatalog\n",
    "\n",
    "setup_logger()\n",
    "cfg = get_cfg()\n",
    "cfg.merge_from_file(model_zoo.get_config_file(\"COCO-InstanceSegmentation/mask_rcnn_R_50_FPN_3x.yaml\"))\n",
    "cfg.MODEL.WEIGHTS = model_zoo.get_checkpoint_url(\"COCO-InstanceSegmentation/mask_rcnn_R_50_FPN_3x.yaml\")\n",
    "\n",
    "cfg.MODEL.ROI_HEADS.SCORE_THRESH_TEST = 0.5\n",
    "cfg.MODEL.DEVICE = \"cpu\"\n",
    "\n",
    "detectron = DefaultPredictor(cfg)\n",
    "\n",
    "def detect(img):\n",
    "    width, height, _ = img.shape\n",
    "\n",
    "    outputs = detectron(img)\n",
    "\n",
    "    classes = outputs[\"instances\"].get_fields()[\"pred_classes\"]\n",
    "    bird_indices = np.where(classes == 14)[0]\n",
    "    if len(bird_indices) == 0:\n",
    "        left, top, right, bottom = 0, 0, width, height\n",
    "    else:\n",
    "        scores = outputs[\"instances\"].get_fields()[\"scores\"]\n",
    "        for j in range(len(scores)):\n",
    "            if j not in bird_indices:\n",
    "                scores[j] = 0\n",
    "        argmax = scores.argmax().item()\n",
    "        box = outputs[\"instances\"].get_fields()[\"pred_boxes\"].tensor[argmax]\n",
    "        left, top, right, bottom = box\n",
    "        # left -= 10\n",
    "        # right += 10\n",
    "        # top -= 10\n",
    "        # bottom += 10\n",
    "        left, top, right, bottom = list(map(lambda x: int(x), (left, top, right, bottom)))\n",
    "        \n",
    "    return (left, top, right, bottom)\n",
    "\n",
    "def crop(img, bbox, augmentation_factor = 0.05):\n",
    "    rows, columns, channels = img.shape\n",
    "    \n",
    "    left, top, right, bottom = bbox\n",
    "    \n",
    "    center_vertical = (top+bottom)/2\n",
    "    center_horizontal = (left+right)/2\n",
    "    \n",
    "    max_edge = max(bottom-top, right-left)\n",
    "    size = (1 + augmentation_factor) * max_edge\n",
    "    \n",
    "    new_top, new_bottom = center_vertical - size/2, center_vertical + size/2\n",
    "    new_left, new_right = center_horizontal - size/2, center_horizontal + size/2\n",
    "    \n",
    "    center_vertical = center_vertical - min(new_top, 0) + min(rows - new_bottom, 0)\n",
    "    center_horizontal = center_vertical - min(new_left, 0) + min(rows - new_right, 0)\n",
    "    \n",
    "    new_top, new_bottom = int(center_vertical - size/2), int(center_vertical + size/2)\n",
    "    new_left, new_right = int(center_horizontal - size/2), int(center_horizontal + size/2)\n",
    "    \n",
    "    img_crop = img[new_top:new_bottom, new_left:new_right]\n",
    "    return img_crop\n",
    "\n",
    "def extract_one(src_path, dst_path):\n",
    "    img = cv2.imread(src_path)\n",
    "    bbox = detect(img)\n",
    "    img_crop = crop(img, bbox)\n",
    "    cv2.imwrite(dst_path, img_crop)\n",
    "\n",
    "def detect_all(src_folder):\n",
    "    files = list(src_folder.rglob(\"*.jpg\"))\n",
    "    for i in trange(len(files)):\n",
    "        f = files[i]\n",
    "        try:\n",
    "            extract_one(str(f), str(f))\n",
    "        except:\n",
    "            print(f\"Error with img: {f} !\")"
   ]
  },
  {
   "cell_type": "code",
   "execution_count": null,
   "metadata": {},
   "outputs": [],
   "source": [
    "src_folder = Path(\"data_new\")\n",
    "f = list(src_folder.rglob(\"*.jpg\"))[0]\n",
    "extract_one(str(f), str(f))\n"
   ]
  },
  {
   "cell_type": "code",
   "execution_count": null,
   "metadata": {},
   "outputs": [],
   "source": [
    "list(src_folder.rglob(\"*.jpg\"))[0]"
   ]
  },
  {
   "cell_type": "code",
   "execution_count": null,
   "metadata": {},
   "outputs": [],
   "source": [
    "path = Path(\"../data/test_images\")\n",
    "len(list(path.rglob(\"*.jpg\")))"
   ]
  },
  {
   "cell_type": "code",
   "execution_count": null,
   "metadata": {},
   "outputs": [],
   "source": [
    "exp_files = {\n",
    "    \"Inception\":\"inception_2022-11-27-00-54\", \n",
    "    \"VGG\": \"vgg_2022-11-27-00-55\", \n",
    "    \"Resnet\":\"resnet_2022-11-27-00-56\",\n",
    "    \"ViT\": \"ViT-crops_2022-11-28-00-59\",\n",
    "}"
   ]
  },
  {
   "cell_type": "code",
   "execution_count": null,
   "metadata": {},
   "outputs": [],
   "source": [
    "train_df = pd.DataFrame(columns = exp_files.keys())\n",
    "for name, exp in exp_files.items():\n",
    "    path = Path(f\"EXPERIMENTS/{exp}/metrics/learning_curves.csv\")\n",
    "    train_df[name] = pd.read_csv(path, index_col=0)[\"train_loss\"]\n",
    "train_df = train_df.fillna(method=\"ffill\")\n",
    "\n",
    "test_df = pd.DataFrame(columns = exp_files.keys())\n",
    "for name, exp in exp_files.items():\n",
    "    path = Path(f\"EXPERIMENTS/{exp}/metrics/learning_curves.csv\")\n",
    "    test_df[name] = pd.read_csv(path, index_col=0)[\"val_loss\"]\n",
    "test_df = test_df.fillna(method=\"ffill\")"
   ]
  },
  {
   "cell_type": "code",
   "execution_count": null,
   "metadata": {},
   "outputs": [],
   "source": [
    "import seaborn as sns\n",
    "sns.set_theme('notebook')"
   ]
  },
  {
   "cell_type": "code",
   "execution_count": null,
   "metadata": {},
   "outputs": [],
   "source": [
    "train_df.plot()\n",
    "plt.xlabel(\"epochs\", fontsize=15)\n",
    "plt.ylabel(\"loss\", fontsize=15)\n"
   ]
  },
  {
   "cell_type": "code",
   "execution_count": null,
   "metadata": {},
   "outputs": [],
   "source": [
    "test_df.plot()\n",
    "plt.xlabel(\"epochs\", fontsize=15)\n",
    "plt.ylabel(\"loss\", fontsize=15)"
   ]
  },
  {
   "cell_type": "code",
   "execution_count": null,
   "metadata": {},
   "outputs": [],
   "source": [
    "test_df.plot()\n",
    "plt.title(\"Accuracy at each epoch - Validation set\")"
   ]
  },
  {
   "cell_type": "code",
   "execution_count": null,
   "metadata": {},
   "outputs": [],
   "source": []
  }
 ],
 "metadata": {
  "kernelspec": {
   "display_name": "Python 3.9.7 ('base')",
   "language": "python",
   "name": "python3"
  },
  "language_info": {
   "codemirror_mode": {
    "name": "ipython",
    "version": 3
   },
   "file_extension": ".py",
   "mimetype": "text/x-python",
   "name": "python",
   "nbconvert_exporter": "python",
   "pygments_lexer": "ipython3",
   "version": "3.9.7"
  },
  "orig_nbformat": 4,
  "vscode": {
   "interpreter": {
    "hash": "c6e4e9f98eb68ad3b7c296f83d20e6de614cb42e90992a65aa266555a3137d0d"
   }
  }
 },
 "nbformat": 4,
 "nbformat_minor": 2
}
