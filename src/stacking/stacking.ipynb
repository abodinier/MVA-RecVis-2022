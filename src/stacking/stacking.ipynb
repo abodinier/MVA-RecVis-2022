{
 "cells": [
  {
   "cell_type": "markdown",
   "metadata": {},
   "source": [
    "# IMPORTS"
   ]
  },
  {
   "cell_type": "code",
   "execution_count": 4,
   "metadata": {},
   "outputs": [],
   "source": [
    "import torch\n",
    "import numpy as np\n",
    "import pandas as pd\n",
    "from pathlib import Path\n",
    "import matplotlib.pyplot as plt\n",
    "from torchvision import datasets\n",
    "from sklearn.metrics import classification_report\n",
    "from sklearn.metrics import ConfusionMatrixDisplay\n",
    "\n",
    "import sys\n",
    "sys.path.append(\"../\")\n",
    "from data import get_data_transform\n",
    "from ensembling.ensembling import Averaging, Voting, Stacking\n",
    "from model import CNN, ResNet, Inception, VGG, ViT, load_from_exp\n",
    "\n",
    "from sklearn.svm import SVC\n",
    "from sklearn.ensemble import RandomForestClassifier\n",
    "from sklearn.linear_model import LogisticRegression"
   ]
  },
  {
   "cell_type": "code",
   "execution_count": 7,
   "metadata": {},
   "outputs": [
    {
     "name": "stderr",
     "output_type": "stream",
     "text": [
      "/opt/homebrew/Caskroom/miniforge/base/lib/python3.9/site-packages/torchvision/models/_utils.py:223: UserWarning: Arguments other than a weight enum or `None` for 'weights' are deprecated since 0.13 and will be removed in 0.15. The current behavior is equivalent to passing `weights=Inception_V3_Weights.IMAGENET1K_V1`. You can also use `weights=Inception_V3_Weights.DEFAULT` to get the most up-to-date weights.\n",
      "  warnings.warn(msg)\n"
     ]
    }
   ],
   "source": [
    "resnet = load_from_exp(Path(\"../../EXPERIMENTS/resnet_2022-11-27-00-56\"))\n",
    "vgg = load_from_exp(Path(\"../../EXPERIMENTS/vgg_2022-11-27-00-55\"))\n",
    "inception = load_from_exp(Path(\"../../EXPERIMENTS/inception_2022-11-27-00-54\"))\n",
    "bag_of_models = [resnet, vgg, inception]"
   ]
  },
  {
   "cell_type": "markdown",
   "metadata": {},
   "source": [
    "# DATA"
   ]
  },
  {
   "cell_type": "code",
   "execution_count": 9,
   "metadata": {},
   "outputs": [],
   "source": [
    "data_transforms = get_data_transform(image_size=299, data_augmentation=0)\n",
    "\n",
    "train_loader = torch.utils.data.DataLoader(\n",
    "    datasets.ImageFolder(\"../../data/train_images\", transform=data_transforms),\n",
    "    batch_size=64,\n",
    "    shuffle=False,\n",
    ")\n",
    "val_loader = torch.utils.data.DataLoader(\n",
    "    datasets.ImageFolder(\"../../data/val_images\", transform=data_transforms),\n",
    "    batch_size=64,\n",
    "    shuffle=False,\n",
    ")"
   ]
  },
  {
   "cell_type": "markdown",
   "metadata": {},
   "source": [
    "## EXTRACT TRAIN AND TEST SET"
   ]
  },
  {
   "cell_type": "markdown",
   "metadata": {},
   "source": [
    "### TRAIN"
   ]
  },
  {
   "cell_type": "code",
   "execution_count": 10,
   "metadata": {},
   "outputs": [
    {
     "name": "stdout",
     "output_type": "stream",
     "text": [
      "Batch 0\n",
      "Batch 1\n",
      "Batch 2\n",
      "Batch 3\n",
      "Batch 4\n",
      "Batch 5\n",
      "Batch 6\n",
      "Batch 7\n",
      "Batch 8\n",
      "Batch 9\n",
      "Batch 10\n",
      "Batch 11\n",
      "Batch 12\n",
      "Batch 13\n",
      "Batch 14\n",
      "Batch 15\n",
      "Batch 16\n"
     ]
    }
   ],
   "source": [
    "targets = []\n",
    "for i, (X_train, y_train) in enumerate(train_loader):\n",
    "    print(\"Batch\", i)\n",
    "    for j, model in enumerate(bag_of_models):\n",
    "        if j == 0:\n",
    "            X_bag_i = model(X_train).detach().numpy()\n",
    "        else:\n",
    "            X_bag_i = np.hstack([X_bag_i, model(X_train).detach().numpy()])\n",
    "    if i == 0:\n",
    "        X_bag = X_bag_i\n",
    "    else:\n",
    "        X_bag = np.vstack([X_bag, X_bag_i])\n",
    "    targets += y_train.detach().numpy().tolist()\n",
    "\n",
    "pd.Series(targets).to_csv(\"y_train.csv\")\n",
    "pd.DataFrame(X_bag).to_csv(\"X_bag_train.csv\")"
   ]
  },
  {
   "cell_type": "markdown",
   "metadata": {},
   "source": [
    "### TEST"
   ]
  },
  {
   "cell_type": "code",
   "execution_count": 11,
   "metadata": {},
   "outputs": [
    {
     "name": "stdout",
     "output_type": "stream",
     "text": [
      "Batch 0\n",
      "Batch 1\n"
     ]
    }
   ],
   "source": [
    "targets = []\n",
    "for i, (X_val, y_val) in enumerate(val_loader):\n",
    "    print(\"Batch\", i)\n",
    "    for j, model in enumerate(bag_of_models):\n",
    "        if j == 0:\n",
    "            X_bag_i = model(X_val).detach().numpy()\n",
    "        else:\n",
    "            X_bag_i = np.hstack([X_bag_i, model(X_val).detach().numpy()])\n",
    "    if i == 0:\n",
    "        X_bag = X_bag_i\n",
    "    else:\n",
    "        X_bag = np.vstack([X_bag, X_bag_i])\n",
    "    targets += y_val.detach().numpy().tolist()\n",
    "\n",
    "pd.Series(targets).to_csv(\"y_val.csv\")\n",
    "pd.DataFrame(X_bag).to_csv(\"X_bag_val.csv\")"
   ]
  },
  {
   "cell_type": "code",
   "execution_count": 18,
   "metadata": {},
   "outputs": [],
   "source": [
    "X_train = pd.read_csv(\"./X_bag_train.csv\")\n",
    "y_train = pd.read_csv(\"./y_train.csv\", index_col=0)\n",
    "X_val = pd.read_csv(\"./X_bag_val.csv\")\n",
    "y_val = pd.read_csv(\"./y_val.csv\", index_col=0)"
   ]
  },
  {
   "cell_type": "code",
   "execution_count": 26,
   "metadata": {},
   "outputs": [
    {
     "name": "stderr",
     "output_type": "stream",
     "text": [
      "/opt/homebrew/Caskroom/miniforge/base/lib/python3.9/site-packages/sklearn/utils/validation.py:1111: DataConversionWarning: A column-vector y was passed when a 1d array was expected. Please change the shape of y to (n_samples, ), for example using ravel().\n",
      "  y = column_or_1d(y, warn=True)\n",
      "/opt/homebrew/Caskroom/miniforge/base/lib/python3.9/site-packages/sklearn/linear_model/_logistic.py:444: ConvergenceWarning: lbfgs failed to converge (status=1):\n",
      "STOP: TOTAL NO. of ITERATIONS REACHED LIMIT.\n",
      "\n",
      "Increase the number of iterations (max_iter) or scale the data as shown in:\n",
      "    https://scikit-learn.org/stable/modules/preprocessing.html\n",
      "Please also refer to the documentation for alternative solver options:\n",
      "    https://scikit-learn.org/stable/modules/linear_model.html#logistic-regression\n",
      "  n_iter_i = _check_optimize_result(\n"
     ]
    },
    {
     "data": {
      "text/html": [
       "<style>#sk-container-id-3 {color: black;background-color: white;}#sk-container-id-3 pre{padding: 0;}#sk-container-id-3 div.sk-toggleable {background-color: white;}#sk-container-id-3 label.sk-toggleable__label {cursor: pointer;display: block;width: 100%;margin-bottom: 0;padding: 0.3em;box-sizing: border-box;text-align: center;}#sk-container-id-3 label.sk-toggleable__label-arrow:before {content: \"▸\";float: left;margin-right: 0.25em;color: #696969;}#sk-container-id-3 label.sk-toggleable__label-arrow:hover:before {color: black;}#sk-container-id-3 div.sk-estimator:hover label.sk-toggleable__label-arrow:before {color: black;}#sk-container-id-3 div.sk-toggleable__content {max-height: 0;max-width: 0;overflow: hidden;text-align: left;background-color: #f0f8ff;}#sk-container-id-3 div.sk-toggleable__content pre {margin: 0.2em;color: black;border-radius: 0.25em;background-color: #f0f8ff;}#sk-container-id-3 input.sk-toggleable__control:checked~div.sk-toggleable__content {max-height: 200px;max-width: 100%;overflow: auto;}#sk-container-id-3 input.sk-toggleable__control:checked~label.sk-toggleable__label-arrow:before {content: \"▾\";}#sk-container-id-3 div.sk-estimator input.sk-toggleable__control:checked~label.sk-toggleable__label {background-color: #d4ebff;}#sk-container-id-3 div.sk-label input.sk-toggleable__control:checked~label.sk-toggleable__label {background-color: #d4ebff;}#sk-container-id-3 input.sk-hidden--visually {border: 0;clip: rect(1px 1px 1px 1px);clip: rect(1px, 1px, 1px, 1px);height: 1px;margin: -1px;overflow: hidden;padding: 0;position: absolute;width: 1px;}#sk-container-id-3 div.sk-estimator {font-family: monospace;background-color: #f0f8ff;border: 1px dotted black;border-radius: 0.25em;box-sizing: border-box;margin-bottom: 0.5em;}#sk-container-id-3 div.sk-estimator:hover {background-color: #d4ebff;}#sk-container-id-3 div.sk-parallel-item::after {content: \"\";width: 100%;border-bottom: 1px solid gray;flex-grow: 1;}#sk-container-id-3 div.sk-label:hover label.sk-toggleable__label {background-color: #d4ebff;}#sk-container-id-3 div.sk-serial::before {content: \"\";position: absolute;border-left: 1px solid gray;box-sizing: border-box;top: 0;bottom: 0;left: 50%;z-index: 0;}#sk-container-id-3 div.sk-serial {display: flex;flex-direction: column;align-items: center;background-color: white;padding-right: 0.2em;padding-left: 0.2em;position: relative;}#sk-container-id-3 div.sk-item {position: relative;z-index: 1;}#sk-container-id-3 div.sk-parallel {display: flex;align-items: stretch;justify-content: center;background-color: white;position: relative;}#sk-container-id-3 div.sk-item::before, #sk-container-id-3 div.sk-parallel-item::before {content: \"\";position: absolute;border-left: 1px solid gray;box-sizing: border-box;top: 0;bottom: 0;left: 50%;z-index: -1;}#sk-container-id-3 div.sk-parallel-item {display: flex;flex-direction: column;z-index: 1;position: relative;background-color: white;}#sk-container-id-3 div.sk-parallel-item:first-child::after {align-self: flex-end;width: 50%;}#sk-container-id-3 div.sk-parallel-item:last-child::after {align-self: flex-start;width: 50%;}#sk-container-id-3 div.sk-parallel-item:only-child::after {width: 0;}#sk-container-id-3 div.sk-dashed-wrapped {border: 1px dashed gray;margin: 0 0.4em 0.5em 0.4em;box-sizing: border-box;padding-bottom: 0.4em;background-color: white;}#sk-container-id-3 div.sk-label label {font-family: monospace;font-weight: bold;display: inline-block;line-height: 1.2em;}#sk-container-id-3 div.sk-label-container {text-align: center;}#sk-container-id-3 div.sk-container {/* jupyter's `normalize.less` sets `[hidden] { display: none; }` but bootstrap.min.css set `[hidden] { display: none !important; }` so we also need the `!important` here to be able to override the default hidden behavior on the sphinx rendered scikit-learn.org. See: https://github.com/scikit-learn/scikit-learn/issues/21755 */display: inline-block !important;position: relative;}#sk-container-id-3 div.sk-text-repr-fallback {display: none;}</style><div id=\"sk-container-id-3\" class=\"sk-top-container\"><div class=\"sk-text-repr-fallback\"><pre>LogisticRegression()</pre><b>In a Jupyter environment, please rerun this cell to show the HTML representation or trust the notebook. <br />On GitHub, the HTML representation is unable to render, please try loading this page with nbviewer.org.</b></div><div class=\"sk-container\" hidden><div class=\"sk-item\"><div class=\"sk-estimator sk-toggleable\"><input class=\"sk-toggleable__control sk-hidden--visually\" id=\"sk-estimator-id-3\" type=\"checkbox\" checked><label for=\"sk-estimator-id-3\" class=\"sk-toggleable__label sk-toggleable__label-arrow\">LogisticRegression</label><div class=\"sk-toggleable__content\"><pre>LogisticRegression()</pre></div></div></div></div></div>"
      ],
      "text/plain": [
       "LogisticRegression()"
      ]
     },
     "execution_count": 26,
     "metadata": {},
     "output_type": "execute_result"
    }
   ],
   "source": [
    "model = RandomForestClassifier(n_estimators=100)\n",
    "model = LogisticRegression()\n",
    "model.fit(X_train, y_train)"
   ]
  },
  {
   "cell_type": "code",
   "execution_count": 27,
   "metadata": {},
   "outputs": [],
   "source": [
    "y_pred = model.predict(X_val)"
   ]
  },
  {
   "cell_type": "code",
   "execution_count": 63,
   "metadata": {},
   "outputs": [],
   "source": [
    "import torch"
   ]
  },
  {
   "cell_type": "code",
   "execution_count": 65,
   "metadata": {},
   "outputs": [
    {
     "name": "stderr",
     "output_type": "stream",
     "text": [
      "/var/folders/gz/jqqnqd2d36nc0gqq8l5dpdww0000gn/T/ipykernel_46389/3247442161.py:3: UserWarning: Implicit dimension choice for softmax has been deprecated. Change the call to include dim=X as an argument.\n",
      "  avg[i] = torch.nn.Softmax()(torch.tensor(X_val.iloc[:, start:end].values)).numpy()\n"
     ]
    }
   ],
   "source": [
    "avg = np.zeros((3, len(X_val), 20))\n",
    "for i, (start, end) in enumerate([[0, 20], [20, 40], [40, 60]]):\n",
    "    avg[i] = torch.nn.Softmax()(torch.tensor(X_val.iloc[:, start:end].values)).numpy()"
   ]
  },
  {
   "cell_type": "code",
   "execution_count": 68,
   "metadata": {},
   "outputs": [
    {
     "data": {
      "text/plain": [
       "array([[[4.47525627e-02, 7.92900288e-02, 6.27186888e-02, ...,\n",
       "         9.19432566e-02, 6.17457206e-02, 4.26319836e-02],\n",
       "        [9.72548457e-02, 1.05073091e-01, 3.96296826e-02, ...,\n",
       "         4.73358567e-02, 7.45662959e-02, 3.87891651e-02],\n",
       "        [2.19736428e-01, 3.69361628e-02, 8.42389389e-02, ...,\n",
       "         7.95268604e-02, 3.86921908e-02, 1.65168690e-02],\n",
       "        ...,\n",
       "        [1.00000000e+00, 3.53669509e-44, 3.92462620e-44, ...,\n",
       "         2.29108117e-44, 6.48285949e-44, 5.10785613e-44],\n",
       "        [1.00000000e+00, 7.91252055e-45, 8.60550767e-45, ...,\n",
       "         6.12776072e-45, 1.64418002e-44, 1.68385969e-44],\n",
       "        [1.00000000e+00, 3.11883391e-45, 5.50758584e-45, ...,\n",
       "         2.96728052e-45, 6.49201860e-45, 6.10038751e-45]],\n",
       "\n",
       "       [[1.51209257e-02, 1.25671994e-01, 1.28954869e-01, ...,\n",
       "         9.77157596e-02, 2.25894208e-02, 1.50090632e-02],\n",
       "        [7.88110332e-03, 2.58391896e-01, 1.03302255e-01, ...,\n",
       "         5.32158992e-02, 3.76284905e-02, 2.65562873e-02],\n",
       "        [1.12771904e-02, 2.58013577e-02, 1.99658645e-01, ...,\n",
       "         6.72475128e-02, 1.72344646e-02, 2.42373064e-02],\n",
       "        ...,\n",
       "        [4.30407074e-02, 3.52818547e-02, 5.76790608e-02, ...,\n",
       "         1.71369577e-02, 7.11839186e-02, 5.11212402e-02],\n",
       "        [7.24427093e-02, 3.11489483e-02, 5.19374813e-02, ...,\n",
       "         1.86682911e-02, 1.16350137e-02, 2.20723246e-02],\n",
       "        [9.04865204e-02, 2.03298245e-02, 5.27484582e-02, ...,\n",
       "         2.55547573e-02, 3.71751644e-02, 3.30697370e-02]],\n",
       "\n",
       "       [[1.78715113e-02, 7.03811166e-02, 7.42141088e-02, ...,\n",
       "         7.48525387e-02, 4.29965931e-02, 4.19997975e-02],\n",
       "        [1.85709013e-02, 9.83225359e-02, 5.00999679e-02, ...,\n",
       "         5.85040374e-02, 5.70919832e-02, 4.73422940e-02],\n",
       "        [2.09523859e-02, 4.25651611e-02, 6.67035760e-02, ...,\n",
       "         7.96203843e-02, 4.64363577e-02, 3.84431438e-02],\n",
       "        ...,\n",
       "        [2.51205493e-01, 4.35381572e-02, 3.39262564e-02, ...,\n",
       "         3.71009367e-02, 4.72276564e-02, 4.00317935e-02],\n",
       "        [4.97938100e-01, 2.44934061e-02, 1.76320248e-02, ...,\n",
       "         2.48980255e-02, 2.50790839e-02, 1.89247781e-02],\n",
       "        [4.68889969e-01, 2.46870504e-02, 2.40945461e-02, ...,\n",
       "         2.29545846e-02, 2.70315338e-02, 2.46283905e-02]]])"
      ]
     },
     "execution_count": 68,
     "metadata": {},
     "output_type": "execute_result"
    }
   ],
   "source": [
    "avg"
   ]
  },
  {
   "cell_type": "code",
   "execution_count": 66,
   "metadata": {},
   "outputs": [
    {
     "name": "stdout",
     "output_type": "stream",
     "text": [
      "              precision    recall  f1-score   support\n",
      "\n",
      "           0       0.00      0.00      0.00       2.0\n",
      "           1       0.00      0.00      0.00       4.0\n",
      "           2       0.00      0.00      0.00       7.0\n",
      "           3       0.00      0.00      0.00       3.0\n",
      "           4       0.00      0.00      0.00       2.0\n",
      "           5       0.00      0.00      0.00       2.0\n",
      "           6       0.00      0.00      0.00       3.0\n",
      "           7       0.00      0.00      0.00       4.0\n",
      "           8       0.00      0.00      0.00       6.0\n",
      "           9       0.00      0.00      0.00       5.0\n",
      "          10       0.00      0.00      0.00       8.0\n",
      "          11       0.00      0.00      0.00       6.0\n",
      "          12       0.00      0.00      0.00       6.0\n",
      "          13       0.00      0.00      0.00       8.0\n",
      "          14       0.00      0.00      0.00       7.0\n",
      "          15       0.00      0.00      0.00       7.0\n",
      "          16       0.00      0.00      0.00       6.0\n",
      "          17       0.00      0.00      0.00       5.0\n",
      "          18       0.00      0.00      0.00       4.0\n",
      "          19       0.00      0.00      0.00       8.0\n",
      "\n",
      "    accuracy                           0.00     103.0\n",
      "   macro avg       0.00      0.00      0.00     103.0\n",
      "weighted avg       0.00      0.00      0.00     103.0\n",
      "\n"
     ]
    },
    {
     "name": "stderr",
     "output_type": "stream",
     "text": [
      "/opt/homebrew/Caskroom/miniforge/base/lib/python3.9/site-packages/sklearn/metrics/_classification.py:1327: UndefinedMetricWarning: Precision and F-score are ill-defined and being set to 0.0 in labels with no predicted samples. Use `zero_division` parameter to control this behavior.\n",
      "  _warn_prf(average, modifier, msg_start, len(result))\n",
      "/opt/homebrew/Caskroom/miniforge/base/lib/python3.9/site-packages/sklearn/metrics/_classification.py:1327: UndefinedMetricWarning: Precision and F-score are ill-defined and being set to 0.0 in labels with no predicted samples. Use `zero_division` parameter to control this behavior.\n",
      "  _warn_prf(average, modifier, msg_start, len(result))\n",
      "/opt/homebrew/Caskroom/miniforge/base/lib/python3.9/site-packages/sklearn/metrics/_classification.py:1327: UndefinedMetricWarning: Precision and F-score are ill-defined and being set to 0.0 in labels with no predicted samples. Use `zero_division` parameter to control this behavior.\n",
      "  _warn_prf(average, modifier, msg_start, len(result))\n"
     ]
    }
   ],
   "source": [
    "print(\n",
    "    classification_report(\n",
    "        y_true=y_val,\n",
    "        y_pred=avg.mean(axis=0).argmax(axis=1)\n",
    "    )\n",
    ")"
   ]
  },
  {
   "cell_type": "code",
   "execution_count": 30,
   "metadata": {},
   "outputs": [
    {
     "name": "stdout",
     "output_type": "stream",
     "text": [
      "              precision    recall  f1-score   support\n",
      "\n",
      "           0       0.33      1.00      0.50         2\n",
      "           1       0.15      0.50      0.24         4\n",
      "           2       0.56      0.71      0.63         7\n",
      "           3       0.25      0.33      0.29         3\n",
      "           4       0.67      1.00      0.80         2\n",
      "           5       1.00      1.00      1.00         2\n",
      "           6       0.21      1.00      0.35         3\n",
      "           7       0.40      0.50      0.44         4\n",
      "           8       1.00      0.17      0.29         6\n",
      "           9       0.50      0.20      0.29         5\n",
      "          10       0.89      1.00      0.94         8\n",
      "          11       1.00      0.50      0.67         6\n",
      "          12       0.80      0.67      0.73         6\n",
      "          13       1.00      0.25      0.40         8\n",
      "          14       0.86      0.86      0.86         7\n",
      "          15       0.50      0.43      0.46         7\n",
      "          16       0.00      0.00      0.00         6\n",
      "          17       1.00      1.00      1.00         5\n",
      "          18       1.00      1.00      1.00         4\n",
      "          19       1.00      0.38      0.55         8\n",
      "\n",
      "    accuracy                           0.57       103\n",
      "   macro avg       0.66      0.62      0.57       103\n",
      "weighted avg       0.70      0.57      0.57       103\n",
      "\n"
     ]
    },
    {
     "name": "stderr",
     "output_type": "stream",
     "text": [
      "/opt/homebrew/Caskroom/miniforge/base/lib/python3.9/site-packages/sklearn/metrics/_classification.py:1327: UndefinedMetricWarning: Precision and F-score are ill-defined and being set to 0.0 in labels with no predicted samples. Use `zero_division` parameter to control this behavior.\n",
      "  _warn_prf(average, modifier, msg_start, len(result))\n",
      "/opt/homebrew/Caskroom/miniforge/base/lib/python3.9/site-packages/sklearn/metrics/_classification.py:1327: UndefinedMetricWarning: Precision and F-score are ill-defined and being set to 0.0 in labels with no predicted samples. Use `zero_division` parameter to control this behavior.\n",
      "  _warn_prf(average, modifier, msg_start, len(result))\n",
      "/opt/homebrew/Caskroom/miniforge/base/lib/python3.9/site-packages/sklearn/metrics/_classification.py:1327: UndefinedMetricWarning: Precision and F-score are ill-defined and being set to 0.0 in labels with no predicted samples. Use `zero_division` parameter to control this behavior.\n",
      "  _warn_prf(average, modifier, msg_start, len(result))\n"
     ]
    }
   ],
   "source": [
    "print(\n",
    "    classification_report(\n",
    "        y_true=y_val,\n",
    "        y_pred=y_pred\n",
    "    )\n",
    ")"
   ]
  },
  {
   "cell_type": "code",
   "execution_count": null,
   "metadata": {},
   "outputs": [],
   "source": []
  }
 ],
 "metadata": {
  "kernelspec": {
   "display_name": "Python 3.9.7 ('base')",
   "language": "python",
   "name": "python3"
  },
  "language_info": {
   "codemirror_mode": {
    "name": "ipython",
    "version": 3
   },
   "file_extension": ".py",
   "mimetype": "text/x-python",
   "name": "python",
   "nbconvert_exporter": "python",
   "pygments_lexer": "ipython3",
   "version": "3.9.7"
  },
  "orig_nbformat": 4,
  "vscode": {
   "interpreter": {
    "hash": "c6e4e9f98eb68ad3b7c296f83d20e6de614cb42e90992a65aa266555a3137d0d"
   }
  }
 },
 "nbformat": 4,
 "nbformat_minor": 2
}
