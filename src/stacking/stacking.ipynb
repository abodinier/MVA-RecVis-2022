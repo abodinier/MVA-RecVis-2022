{
 "cells": [
  {
   "cell_type": "markdown",
   "metadata": {},
   "source": [
    "# IMPORTS"
   ]
  },
  {
   "cell_type": "code",
   "execution_count": null,
   "metadata": {},
   "outputs": [],
   "source": [
    "import torch\n",
    "import numpy as np\n",
    "import pandas as pd\n",
    "from pathlib import Path\n",
    "import matplotlib.pyplot as plt\n",
    "from torchvision import datasets\n",
    "from sklearn.metrics import classification_report\n",
    "from sklearn.metrics import ConfusionMatrixDisplay\n",
    "\n",
    "from data import get_data_transform\n",
    "from ensembling import Averaging, Voting, Stacking\n",
    "from model import CNN, ResNet, Inception, VGG, ViT, load_from_exp\n",
    "\n",
    "from sklearn.svm import SVC\n",
    "from sklearn.ensemble import RandomForestClassifier\n",
    "from sklearn.linear_model import LogisticRegression"
   ]
  },
  {
   "cell_type": "code",
   "execution_count": null,
   "metadata": {},
   "outputs": [],
   "source": [
    "resnet = load_from_exp(Path(\"../EXPERIMENTS/resnet_2022-11-27-00-56\"))\n",
    "vgg = load_from_exp(Path(\"../EXPERIMENTS/vgg_2022-11-27-00-55\"))\n",
    "inception = load_from_exp(Path(\"../EXPERIMENTS/inception_2022-11-27-00-54\"))\n",
    "bag_of_models = [resnet, vgg, inception]"
   ]
  },
  {
   "cell_type": "markdown",
   "metadata": {},
   "source": [
    "# DATA"
   ]
  },
  {
   "cell_type": "code",
   "execution_count": null,
   "metadata": {},
   "outputs": [],
   "source": [
    "data_transforms = get_data_transform(image_size=299, data_augmentation=0)\n",
    "\n",
    "train_loader = torch.utils.data.DataLoader(\n",
    "    datasets.ImageFolder(\"../data/train_images\", transform=data_transforms),\n",
    "    batch_size=64,\n",
    "    shuffle=False,\n",
    ")\n",
    "val_loader = torch.utils.data.DataLoader(\n",
    "    datasets.ImageFolder(\"../data/val_images\", transform=data_transforms),\n",
    "    batch_size=64,\n",
    "    shuffle=False,\n",
    ")"
   ]
  },
  {
   "cell_type": "markdown",
   "metadata": {},
   "source": [
    "## EXTRACT TRAIN AND TEST SET"
   ]
  },
  {
   "cell_type": "markdown",
   "metadata": {},
   "source": [
    "### TRAIN"
   ]
  },
  {
   "cell_type": "code",
   "execution_count": null,
   "metadata": {},
   "outputs": [],
   "source": [
    "targets = []\n",
    "for i, (X_train, y_train) in enumerate(train_loader):\n",
    "    print(\"Batch\", i)\n",
    "    for j, model in enumerate(bag_of_models):\n",
    "        if j == 0:\n",
    "            X_bag_i = model(X_train).detach().numpy()\n",
    "        else:\n",
    "            X_bag_i = np.hstack([X_bag_i, model(X_train).detach().numpy()])\n",
    "    if i == 0:\n",
    "        X_bag = X_bag_i\n",
    "    else:\n",
    "        X_bag = np.vstack([X_bag, X_bag_i])\n",
    "    targets += y_train.detach().numpy().tolist()\n",
    "\n",
    "pd.Series(targets).to_csv(\"y_train.csv\")\n",
    "pd.DataFrame(X_bag).to_csv(\"X_bag_train.csv\")"
   ]
  },
  {
   "cell_type": "markdown",
   "metadata": {},
   "source": [
    "### TEST"
   ]
  },
  {
   "cell_type": "code",
   "execution_count": null,
   "metadata": {},
   "outputs": [],
   "source": [
    "targets = []\n",
    "for i, (X_val, y_val) in enumerate(val_loader):\n",
    "    print(\"Batch\", i)\n",
    "    for j, model in enumerate(bag_of_models):\n",
    "        if j == 0:\n",
    "            X_bag_i = model(X_val).detach().numpy()\n",
    "        else:\n",
    "            X_bag_i = np.hstack([X_bag_i, model(X_val).detach().numpy()])\n",
    "    if i == 0:\n",
    "        X_bag = X_bag_i\n",
    "    else:\n",
    "        X_bag = np.vstack([X_bag, X_bag_i])\n",
    "    targets += y_val.detach().numpy().tolist()\n",
    "\n",
    "pd.Series(targets).to_csv(\"y_val.csv\")\n",
    "pd.DataFrame(X_bag).to_csv(\"X_bag_val.csv\")"
   ]
  }
 ],
 "metadata": {
  "kernelspec": {
   "display_name": "Python 3.9.7 ('base')",
   "language": "python",
   "name": "python3"
  },
  "language_info": {
   "codemirror_mode": {
    "name": "ipython",
    "version": 3
   },
   "file_extension": ".py",
   "mimetype": "text/x-python",
   "name": "python",
   "nbconvert_exporter": "python",
   "pygments_lexer": "ipython3",
   "version": "3.9.7"
  },
  "orig_nbformat": 4,
  "vscode": {
   "interpreter": {
    "hash": "c6e4e9f98eb68ad3b7c296f83d20e6de614cb42e90992a65aa266555a3137d0d"
   }
  }
 },
 "nbformat": 4,
 "nbformat_minor": 2
}
